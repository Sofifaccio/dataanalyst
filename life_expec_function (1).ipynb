{
 "cells": [
  {
   "cell_type": "code",
   "execution_count": 1,
   "id": "a325e1cb-3ffc-4656-9233-b556ed7d33de",
   "metadata": {},
   "outputs": [
    {
     "name": "stderr",
     "output_type": "stream",
     "text": [
      "Matplotlib is building the font cache; this may take a moment.\n"
     ]
    }
   ],
   "source": [
    "import pandas as pd\n",
    "import numpy as np\n",
    "import matplotlib.pyplot as plt"
   ]
  },
  {
   "cell_type": "markdown",
   "id": "b59523fd-f2c3-48c4-bafd-f739ec8a0662",
   "metadata": {},
   "source": [
    "### Define the function"
   ]
  },
  {
   "cell_type": "code",
   "execution_count": 274,
   "id": "f633703c-1560-4760-94db-75579efb653a",
   "metadata": {},
   "outputs": [],
   "source": [
    "def high_exp(life_expectancy):\n",
    "   \n",
    "    print(life_expectancy)\n",
    "    if life_expectancy > 75:\n",
    "        return \"High Expectancy\"\n",
    "    elif life_expectancy > 65:\n",
    "        return \"Average Expectancy\"\n",
    "    else:\n",
    "        return \"Low Expectancy\"\n"
   ]
  },
  {
   "cell_type": "markdown",
   "id": "93b84620-155f-4018-a15b-ee0d69763486",
   "metadata": {},
   "source": [
    "### Create a dictionaire of life expectation for each country"
   ]
  },
  {
   "cell_type": "code",
   "execution_count": 276,
   "id": "13ccbf2e-e942-4982-a2f6-20a987ff61c4",
   "metadata": {},
   "outputs": [],
   "source": [
    "BRICS = {'Brazil': 73, 'China': 78, 'Russian Federation': 72, 'South Africa': 61}"
   ]
  },
  {
   "cell_type": "markdown",
   "id": "80774fa2-f5c2-4883-af13-7586090ddb46",
   "metadata": {},
   "source": [
    "#### Separate country from age"
   ]
  },
  {
   "cell_type": "code",
   "execution_count": 89,
   "id": "3d85d41a-3847-496b-8a2d-82029109409e",
   "metadata": {},
   "outputs": [
    {
     "name": "stdout",
     "output_type": "stream",
     "text": [
      "73\n",
      "78\n",
      "72\n",
      "61\n"
     ]
    }
   ],
   "source": [
    "for age in BRICS.values():\n",
    "    print(age)"
   ]
  },
  {
   "cell_type": "code",
   "execution_count": 209,
   "id": "e6970a07-d91a-4245-9d74-eeeb08638255",
   "metadata": {},
   "outputs": [
    {
     "name": "stdout",
     "output_type": "stream",
     "text": [
      "[73, 78, 72, 61]\n",
      "['Brazil', 'China', 'Russian Federation', 'South Africa']\n"
     ]
    }
   ],
   "source": [
    "BRICS_age = list(BRICS.values())\n",
    "BRICS_countries = list(BRICS.keys())\n",
    "print(BRICS_age)\n",
    "print(BRICS_countries)\n"
   ]
  },
  {
   "cell_type": "markdown",
   "id": "bf94dd27-8d7b-447c-ac95-505b6ba6e557",
   "metadata": {},
   "source": [
    "## Now loop that so you can define every age in the array"
   ]
  },
  {
   "cell_type": "code",
   "execution_count": 241,
   "id": "f3e6440d-7e11-4ae2-9720-6a23cf23eb75",
   "metadata": {},
   "outputs": [
    {
     "name": "stdout",
     "output_type": "stream",
     "text": [
      "73\n",
      "78\n",
      "72\n",
      "61\n"
     ]
    }
   ],
   "source": [
    "i = 0\n",
    "new_BRICS = dict()\n",
    "BRICS_expectancy = []\n",
    "while i < 4:\n",
    "    z = high_exp(BRICS_age[i])\n",
    "    BRICS_expectancy.append(z)\n",
    "    i = i+1  "
   ]
  },
  {
   "cell_type": "code",
   "execution_count": 243,
   "id": "307779ee-f69f-4b20-a482-8a368a6ebf0c",
   "metadata": {},
   "outputs": [
    {
     "name": "stdout",
     "output_type": "stream",
     "text": [
      "['Average Expectancy', 'High Expectancy', 'Average Expectancy', 'Low Expectancy']\n"
     ]
    }
   ],
   "source": [
    "print(BRICS_expectancy)"
   ]
  },
  {
   "cell_type": "markdown",
   "id": "d965d1ca-2185-48f1-94a1-4d2b398dbab3",
   "metadata": {},
   "source": [
    "## Now give us the good information: how is li"
   ]
  },
  {
   "cell_type": "code",
   "execution_count": 267,
   "id": "ad6c82bb-bc3b-403b-97af-9f004001ef09",
   "metadata": {},
   "outputs": [
    {
     "name": "stdout",
     "output_type": "stream",
     "text": [
      "{'Brazil': 'Average Expectancy'}\n",
      "{'Brazil': 'Average Expectancy', 'China': 'High Expectancy'}\n",
      "{'Brazil': 'Average Expectancy', 'China': 'High Expectancy', 'Russian Federation': 'Average Expectancy'}\n",
      "{'Brazil': 'Average Expectancy', 'China': 'High Expectancy', 'Russian Federation': 'Average Expectancy', 'South Africa': 'Low Expectancy'}\n"
     ]
    }
   ],
   "source": [
    "ii = 0\n",
    "while ii < 4:\n",
    "    new_BRICS[BRICS_countries[ii]] = BRICS_expectancy[ii]\n",
    "    ii = ii+1  \n",
    "    print(new_BRICS)"
   ]
  },
  {
   "cell_type": "code",
   "execution_count": 269,
   "id": "550b3b0f-6b89-4cb8-871e-e73c9e260d26",
   "metadata": {},
   "outputs": [
    {
     "name": "stdout",
     "output_type": "stream",
     "text": [
      "{'Brazil': 'Average Expectancy', 'China': 'High Expectancy', 'Russian Federation': 'Average Expectancy', 'South Africa': 'Low Expectancy'}\n"
     ]
    }
   ],
   "source": [
    "print(new_BRICS)"
   ]
  }
 ],
 "metadata": {
  "kernelspec": {
   "display_name": "Python 3 (ipykernel)",
   "language": "python",
   "name": "python3"
  },
  "language_info": {
   "codemirror_mode": {
    "name": "ipython",
    "version": 3
   },
   "file_extension": ".py",
   "mimetype": "text/x-python",
   "name": "python",
   "nbconvert_exporter": "python",
   "pygments_lexer": "ipython3",
   "version": "3.12.4"
  }
 },
 "nbformat": 4,
 "nbformat_minor": 5
}
